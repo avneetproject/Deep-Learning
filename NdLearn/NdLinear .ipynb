{
  "nbformat": 4,
  "nbformat_minor": 0,
  "metadata": {
    "colab": {
      "provenance": [],
      "gpuType": "T4"
    },
    "kernelspec": {
      "name": "python3",
      "display_name": "Python 3"
    },
    "language_info": {
      "name": "python"
    },
    "accelerator": "GPU"
  },
  "cells": [
    {
      "cell_type": "code",
      "execution_count": null,
      "metadata": {
        "id": "7rcW-gWS2cnx"
      },
      "outputs": [],
      "source": [
        "pip install torch transformers datasets ndlinear\n"
      ]
    },
    {
      "cell_type": "code",
      "source": [
        "import torch\n",
        "import torch.nn as nn\n",
        "from transformers import DistilBertTokenizerFast, DistilBertModel\n",
        "from datasets import load_dataset\n",
        "from ndlinear import NdLinear\n",
        "from torch.utils.data import DataLoader\n",
        "from sklearn.metrics import accuracy_score\n",
        "import numpy as np\n",
        "import pandas as pd"
      ],
      "metadata": {
        "id": "JNji_XAoBao-"
      },
      "execution_count": 1,
      "outputs": []
    },
    {
      "cell_type": "code",
      "source": [
        "device = torch.device(\"cuda\" if torch.cuda.is_available() else \"cpu\")\n",
        "print(f\"Using device: {device}\")"
      ],
      "metadata": {
        "colab": {
          "base_uri": "https://localhost:8080/",
          "height": 0
        },
        "id": "yokTV3rBBr2d",
        "outputId": "3a904030-3b77-459b-f420-0dfd9f9ef005"
      },
      "execution_count": 6,
      "outputs": [
        {
          "output_type": "stream",
          "name": "stdout",
          "text": [
            "Using device: cpu\n"
          ]
        }
      ]
    },
    {
      "cell_type": "code",
      "source": [
        "# dataset: https://huggingface.co/datasets/ag_news\n",
        "dataset = load_dataset(\"ag_news\")\n",
        "dataset[\"train\"].shuffle(seed=42).select(range(5))\n"
      ],
      "metadata": {
        "id": "ImhnOf0TByZr"
      },
      "execution_count": null,
      "outputs": []
    },
    {
      "cell_type": "code",
      "source": [
        "dataset[\"train\"].features[\"label\"].int2str(3)  # returns 'Sci/Tech'\n"
      ],
      "metadata": {
        "colab": {
          "base_uri": "https://localhost:8080/",
          "height": 36
        },
        "id": "IrDwiVSKCjm8",
        "outputId": "10424114-4a73-4e04-b15a-c506fa82aeac"
      },
      "execution_count": 8,
      "outputs": [
        {
          "output_type": "execute_result",
          "data": {
            "text/plain": [
              "'Sci/Tech'"
            ],
            "application/vnd.google.colaboratory.intrinsic+json": {
              "type": "string"
            }
          },
          "metadata": {},
          "execution_count": 8
        }
      ]
    },
    {
      "cell_type": "code",
      "source": [
        "label_names = dataset[\"train\"].features[\"label\"].names\n",
        "print(label_names)\n"
      ],
      "metadata": {
        "colab": {
          "base_uri": "https://localhost:8080/",
          "height": 0
        },
        "id": "wObF9d1BClkV",
        "outputId": "54d21ddb-3415-44f3-bb9d-65497d69609b"
      },
      "execution_count": 9,
      "outputs": [
        {
          "output_type": "stream",
          "name": "stdout",
          "text": [
            "['World', 'Sports', 'Business', 'Sci/Tech']\n"
          ]
        }
      ]
    },
    {
      "cell_type": "code",
      "source": [
        "train_data = dataset[\"train\"].shuffle(seed=42).select(range(10000))\n",
        "test_data = dataset[\"test\"].select(range(2000))"
      ],
      "metadata": {
        "id": "QgcpU7_mCvy9"
      },
      "execution_count": 11,
      "outputs": []
    },
    {
      "cell_type": "code",
      "source": [
        "# TOKENIZATION\n",
        "tokenizer = DistilBertTokenizerFast.from_pretrained(\"distilbert-base-uncased\")\n",
        "\n",
        "def tokenize(batch):\n",
        "    return tokenizer(batch[\"text\"], padding=\"max_length\", truncation=True, max_length=128)"
      ],
      "metadata": {
        "id": "rm3gi28_C11k"
      },
      "execution_count": null,
      "outputs": []
    },
    {
      "cell_type": "code",
      "source": [
        "train_data = train_data.map(tokenize, batched=True)\n",
        "test_data = test_data.map(tokenize, batched=True)"
      ],
      "metadata": {
        "id": "zws7brkiC7Kk"
      },
      "execution_count": null,
      "outputs": []
    },
    {
      "cell_type": "code",
      "source": [
        "# FORMAT FOR TORCH\n",
        "columns = [\"input_ids\", \"attention_mask\", \"label\"]\n",
        "train_data.set_format(type=\"torch\", columns=columns)\n",
        "test_data.set_format(type=\"torch\", columns=columns)"
      ],
      "metadata": {
        "id": "O2snu9jyC-2x"
      },
      "execution_count": 14,
      "outputs": []
    },
    {
      "cell_type": "code",
      "source": [
        "tokens = tokenizer.convert_ids_to_tokens(tokenized_example[\"input_ids\"][0])\n",
        "print(tokens[:20])  # Preview first 20 tokens\n",
        "\n"
      ],
      "metadata": {
        "id": "rTKp2A5VDDhy"
      },
      "execution_count": null,
      "outputs": []
    },
    {
      "cell_type": "code",
      "source": [
        "# DATALOADER\n",
        "train_loader = DataLoader(train_data, batch_size=32, shuffle=True)\n",
        "test_loader = DataLoader(test_data, batch_size=32)"
      ],
      "metadata": {
        "id": "o9eE26iADSnc"
      },
      "execution_count": 19,
      "outputs": []
    },
    {
      "cell_type": "code",
      "source": [
        "# MODEL DEFINITION\n",
        "class NdLinearTextClassifier(nn.Module):\n",
        "    def __init__(self, num_classes=4):\n",
        "        super().__init__()\n",
        "        self.bert = DistilBertModel.from_pretrained(\"distilbert-base-uncased\")\n",
        "        self.ndlinear = NdLinear(input_dims=(128, 768), hidden_size=(128, 256))  # sequence × embedding\n",
        "        self.pool = nn.AdaptiveAvgPool1d(1)  # pool along tokens\n",
        "        self.classifier = nn.Linear(256, num_classes)\n",
        "\n",
        "    def forward(self, input_ids, attention_mask):\n",
        "        with torch.no_grad():  # freeze BERT weights to save memory\n",
        "            bert_output = self.bert(input_ids=input_ids, attention_mask=attention_mask)\n",
        "        hidden = bert_output.last_hidden_state  # (batch, seq_len, hidden_size)\n",
        "        x = self.ndlinear(hidden)  # (batch, 128, 256)\n",
        "        x = x.permute(0, 2, 1)  # (batch, 256, 128) for pooling\n",
        "        pooled = self.pool(x).squeeze(-1)  # (batch, 256)\n",
        "        return self.classifier(pooled)\n",
        "\n",
        "model = NdLinearTextClassifier().to(device)"
      ],
      "metadata": {
        "id": "MTi4nZ8SDX2K"
      },
      "execution_count": null,
      "outputs": []
    },
    {
      "cell_type": "code",
      "source": [
        "# TRAINING SETUP\n",
        "loss_fn = nn.CrossEntropyLoss()\n",
        "optimizer = torch.optim.AdamW(model.parameters(), lr=2e-4)\n",
        "epochs = 3"
      ],
      "metadata": {
        "id": "CK4rsmHRDgiO"
      },
      "execution_count": 21,
      "outputs": []
    },
    {
      "cell_type": "code",
      "source": [
        "# TRAINING\n",
        "for epoch in range(epochs):\n",
        "    model.train()\n",
        "    total_loss = 0\n",
        "    for batch in train_loader:\n",
        "        input_ids = batch[\"input_ids\"].to(device)\n",
        "        attention_mask = batch[\"attention_mask\"].to(device)\n",
        "        labels = batch[\"label\"].to(device)\n",
        "\n",
        "        optimizer.zero_grad()\n",
        "        outputs = model(input_ids, attention_mask)\n",
        "        loss = loss_fn(outputs, labels)\n",
        "        loss.backward()\n",
        "        optimizer.step()\n",
        "        total_loss += loss.item()\n",
        "\n",
        "    avg_loss = total_loss / len(train_loader)\n",
        "    print(f\"Epoch {epoch+1}, Loss: {avg_loss:.4f}\")"
      ],
      "metadata": {
        "colab": {
          "base_uri": "https://localhost:8080/",
          "height": 0
        },
        "id": "IR_xjww1Dkze",
        "outputId": "2be38906-aa6a-4325-8b5d-6c832218faa4"
      },
      "execution_count": 22,
      "outputs": [
        {
          "output_type": "stream",
          "name": "stdout",
          "text": [
            "Epoch 1, Loss: 0.4716\n",
            "Epoch 2, Loss: 0.3112\n",
            "Epoch 3, Loss: 0.2956\n"
          ]
        }
      ]
    },
    {
      "cell_type": "code",
      "source": [
        "# EVALUATION\n",
        "model.eval()\n",
        "all_preds = []\n",
        "all_labels = []\n",
        "\n",
        "with torch.no_grad():\n",
        "    for batch in test_loader:\n",
        "        input_ids = batch[\"input_ids\"].to(device)\n",
        "        attention_mask = batch[\"attention_mask\"].to(device)\n",
        "        labels = batch[\"label\"].to(device)\n",
        "\n",
        "        outputs = model(input_ids, attention_mask)\n",
        "        preds = torch.argmax(outputs, dim=1)\n",
        "        all_preds.extend(preds.cpu().numpy())\n",
        "        all_labels.extend(labels.cpu().numpy())\n",
        "\n",
        "acc = accuracy_score(all_labels, all_preds)\n",
        "print(f\"\\nTest Accuracy: {acc:.4f}\")"
      ],
      "metadata": {
        "colab": {
          "base_uri": "https://localhost:8080/",
          "height": 0
        },
        "id": "VoUCxUoRc7Un",
        "outputId": "e9a3bf99-f9b9-4067-9250-0cbb7e174e69"
      },
      "execution_count": 23,
      "outputs": [
        {
          "output_type": "stream",
          "name": "stdout",
          "text": [
            "\n",
            "Test Accuracy: 0.9035\n"
          ]
        }
      ]
    },
    {
      "cell_type": "code",
      "source": [
        "#EPOCH LOSS GRAPH\n",
        "import matplotlib.pyplot as plt\n",
        "\n",
        "epochs = [1, 2, 3]\n",
        "train_loss = [0.4716, 0.3112, 0.2956]\n",
        "plt.plot(epochs, train_loss, marker='o')\n",
        "plt.title(\"Training Loss over Epochs\")\n",
        "plt.xlabel(\"Epoch\")\n",
        "plt.ylabel(\"Loss\")\n",
        "plt.grid()\n",
        "plt.show()\n"
      ],
      "metadata": {
        "colab": {
          "base_uri": "https://localhost:8080/",
          "height": 472
        },
        "id": "GXcvaCycfhUR",
        "outputId": "e74fa6e1-4994-44bf-a00f-c7c9e6f1337e"
      },
      "execution_count": 24,
      "outputs": [
        {
          "output_type": "display_data",
          "data": {
            "text/plain": [
              "<Figure size 640x480 with 1 Axes>"
            ],
            "image/png": "[encoded data removed]"
          },
          "metadata": {}
        }
      ]
    },
    {
      "cell_type": "code",
      "source": [
        "#TOTAL PARAMETERS USED WITH NDLINEAR\n",
        "param_count = sum(p.numel() for p in model.parameters() if p.requires_grad)\n",
        "print(f\"Trainable Parameters with NdLinear: {param_count:,}\")"
      ],
      "metadata": {
        "colab": {
          "base_uri": "https://localhost:8080/",
          "height": 0
        },
        "id": "DD-6P4pQfk6y",
        "outputId": "27ec3305-1a68-4f9d-f6b0-dd8202a46cd7"
      },
      "execution_count": 25,
      "outputs": [
        {
          "output_type": "stream",
          "name": "stdout",
          "text": [
            "Trainable Parameters with NdLinear: 66,577,284\n"
          ]
        }
      ]
    },
    {
      "cell_type": "code",
      "source": [
        "#USE THE MODEL\n",
        "model.eval()\n",
        "text = \"Oscar Piastri wins the F1 Driver's championship\"\n",
        "from transformers import DistilBertTokenizerFast\n",
        "\n",
        "tokenizer = DistilBertTokenizerFast.from_pretrained(\"distilbert-base-uncased\")\n",
        "\n",
        "inputs = tokenizer(text, return_tensors=\"pt\", padding=\"max_length\", truncation=True, max_length=128)\n",
        "input_ids = inputs[\"input_ids\"]\n",
        "attention_mask = inputs[\"attention_mask\"]\n",
        "input_ids = input_ids.to(device)\n",
        "attention_mask = attention_mask.to(device)\n",
        "\n",
        "with torch.no_grad():\n",
        "    output = model(input_ids, attention_mask)\n",
        "    prediction = torch.argmax(output, dim=1).item()\n",
        "label_names = [\"World\", \"Sports\", \"Business\", \"Sci/Tech\"]\n",
        "print(\"Predicted Category:\", label_names[prediction])\n"
      ],
      "metadata": {
        "colab": {
          "base_uri": "https://localhost:8080/",
          "height": 0
        },
        "id": "kMdQToDfgk4W",
        "outputId": "9119977a-4ab1-4b5a-bd9c-a73413ea2eb7"
      },
      "execution_count": 30,
      "outputs": [
        {
          "output_type": "stream",
          "name": "stdout",
          "text": [
            "Predicted Category: Sports\n"
          ]
        }
      ]
    },
    {
      "cell_type": "code",
      "source": [
        "#SAVE THE MODEL\n",
        "torch.save(model.state_dict(), \"ndlinear_news_classifier.pth\")   #this only saves the weight"
      ],
      "metadata": {
        "id": "Fic-_93-65_I"
      },
      "execution_count": 31,
      "outputs": []
    },
    {
      "cell_type": "code",
      "source": [
        "#SAVE THE FILE LOCALLY\n",
        "from google.colab import files\n",
        "files.download(\"ndlinear_news_classifier.pth\")"
      ],
      "metadata": {
        "colab": {
          "base_uri": "https://localhost:8080/",
          "height": 17
        },
        "id": "d6Knbuq87Wn4",
        "outputId": "da55ec1e-fda3-4ed6-cdb5-6153f1363ba7"
      },
      "execution_count": 32,
      "outputs": [
        {
          "output_type": "display_data",
          "data": {
            "text/plain": [
              "<IPython.core.display.Javascript object>"
            ],
            "application/javascript": [
              "\n",
              "    async function download(id, filename, size) {\n",
              "      if (!google.colab.kernel.accessAllowed) {\n",
              "        return;\n",
              "      }\n",
              "      const div = document.createElement('div');\n",
              "      const label = document.createElement('label');\n",
              "      label.textContent = `Downloading \"${filename}\": `;\n",
              "      div.appendChild(label);\n",
              "      const progress = document.createElement('progress');\n",
              "      progress.max = size;\n",
              "      div.appendChild(progress);\n",
              "      document.body.appendChild(div);\n",
              "\n",
              "      const buffers = [];\n",
              "      let downloaded = 0;\n",
              "\n",
              "      const channel = await google.colab.kernel.comms.open(id);\n",
              "      // Send a message to notify the kernel that we're ready.\n",
              "      channel.send({})\n",
              "\n",
              "      for await (const message of channel.messages) {\n",
              "        // Send a message to notify the kernel that we're ready.\n",
              "        channel.send({})\n",
              "        if (message.buffers) {\n",
              "          for (const buffer of message.buffers) {\n",
              "            buffers.push(buffer);\n",
              "            downloaded += buffer.byteLength;\n",
              "            progress.value = downloaded;\n",
              "          }\n",
              "        }\n",
              "      }\n",
              "      const blob = new Blob(buffers, {type: 'application/binary'});\n",
              "      const a = document.createElement('a');\n",
              "      a.href = window.URL.createObjectURL(blob);\n",
              "      a.download = filename;\n",
              "      div.appendChild(a);\n",
              "      a.click();\n",
              "      div.remove();\n",
              "    }\n",
              "  "
            ]
          },
          "metadata": {}
        },
        {
          "output_type": "display_data",
          "data": {
            "text/plain": [
              "<IPython.core.display.Javascript object>"
            ],
            "application/javascript": [
              "download(\"download_87d76093-ffb3-4a7f-9ceb-2628d68cd10d\", \"ndlinear_news_classifier.pth\", 266350764)"
            ]
          },
          "metadata": {}
        }
      ]
    }
  ]
}